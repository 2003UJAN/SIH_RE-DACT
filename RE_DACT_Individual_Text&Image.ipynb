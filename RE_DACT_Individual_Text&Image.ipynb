{
  "nbformat": 4,
  "nbformat_minor": 0,
  "metadata": {
    "colab": {
      "provenance": [],
      "authorship_tag": "ABX9TyP5v61L+3b5yXLsPKl1Xmdf",
      "include_colab_link": true
    },
    "kernelspec": {
      "name": "python3",
      "display_name": "Python 3"
    },
    "language_info": {
      "name": "python"
    }
  },
  "cells": [
    {
      "cell_type": "markdown",
      "metadata": {
        "id": "view-in-github",
        "colab_type": "text"
      },
      "source": [
        "<a href=\"https://colab.research.google.com/github/2003UJAN/SIH_RE-DACT/blob/main/RE_DACT_Individual_Text%26Image.ipynb\" target=\"_parent\"><img src=\"https://colab.research.google.com/assets/colab-badge.svg\" alt=\"Open In Colab\"/></a>"
      ]
    },
    {
      "cell_type": "code",
      "execution_count": 15,
      "metadata": {
        "id": "t7B1xR_GYohM"
      },
      "outputs": [],
      "source": [
        "import spacy\n",
        "import cv2\n",
        "import os\n",
        "from sklearn.metrics import precision_score, recall_score, f1_score"
      ]
    },
    {
      "cell_type": "code",
      "source": [
        "nlp = spacy.load(\"en_core_web_sm\")"
      ],
      "metadata": {
        "id": "eYcBTcFIYvhx"
      },
      "execution_count": 16,
      "outputs": []
    },
    {
      "cell_type": "code",
      "source": [
        "def perform_ner(text):\n",
        "    doc = nlp(text)\n",
        "    entities = [(ent.text, ent.label_) for ent in doc.ents]\n",
        "    return entities"
      ],
      "metadata": {
        "id": "i72HVEtfYxRv"
      },
      "execution_count": 17,
      "outputs": []
    },
    {
      "cell_type": "code",
      "source": [
        "def redact_text(text, entities, degree):\n",
        "    for entity, label in entities:\n",
        "        if degree == 1:\n",
        "            if label in [\"PERSON\", \"ORG\"]:\n",
        "                text = text.replace(entity, \"[REDACTED]\")\n",
        "        elif degree == 2:\n",
        "            if label in [\"PERSON\", \"ORG\", \"DATE\"]:\n",
        "                text = text.replace(entity, \"[REDACTED]\")\n",
        "        elif degree == 3:\n",
        "            text = text.replace(entity, \"[REDACTED]\")\n",
        "    return text"
      ],
      "metadata": {
        "id": "kaRsO1coY1a6"
      },
      "execution_count": 18,
      "outputs": []
    },
    {
      "cell_type": "code",
      "source": [
        "def save_text_file(content, filename=\"redacted_text.txt\"):\n",
        "    with open(filename, 'w') as file:\n",
        "        file.write(content)\n",
        "    print(f\"Redacted text saved as {filename}\")"
      ],
      "metadata": {
        "id": "t3jTpzDPMUkV"
      },
      "execution_count": 19,
      "outputs": []
    },
    {
      "cell_type": "code",
      "source": [
        "def handle_text_redaction_own_input():\n",
        "    input_text = input(\"Enter text to redact: \")\n",
        "    degree = int(input(\"Enter redaction degree (1-3): \"))\n",
        "    entities = perform_ner(input_text)\n",
        "    redacted_text = redact_text(input_text, entities, degree)\n",
        "    save_text_file(redacted_text)"
      ],
      "metadata": {
        "id": "K5ocOWvzMWjL"
      },
      "execution_count": 20,
      "outputs": []
    },
    {
      "cell_type": "code",
      "source": [
        "def redact_image_with_haar(image_path, degree=1):\n",
        "    image = cv2.imread(image_path)\n",
        "    gray = cv2.cvtColor(image, cv2.COLOR_BGR2GRAY)\n",
        "    face_cascade = cv2.CascadeClassifier(cv2.data.haarcascades + 'haarcascade_frontalface_default.xml')\n",
        "    faces = face_cascade.detectMultiScale(gray, 1.3, 5)\n",
        "\n",
        "    for (x, y, w, h) in faces:\n",
        "        if degree == 1:\n",
        "            face = image[y:y+h, x:x+w]\n",
        "            blurred_face = cv2.GaussianBlur(face, (99, 99), 30)\n",
        "            image[y+y+h, x:x+w] = blurred_face\n",
        "        elif degree == 2:\n",
        "            face = image[y:y+h, x:x+w]\n",
        "            small_face = cv2.resize(face, (w // 10, h // 10), interpolation=cv2.INTER_LINEAR)\n",
        "            resized_face = cv2.resize(small_face, (w, h), interpolation=cv2.INTER_NEAREST)\n",
        "            image[y:y+h, x:x+w] = resized_face\n",
        "        elif degree == 3:\n",
        "            image[y:y+h, x:x+w] = 0\n",
        "\n",
        "    return image"
      ],
      "metadata": {
        "id": "LDbeAnqjMgPe"
      },
      "execution_count": 21,
      "outputs": []
    },
    {
      "cell_type": "code",
      "source": [
        "def save_image_file(image, filename=\"redacted_image.jpg\"):\n",
        "    cv2.imwrite(filename, image)\n",
        "    print(f\"Redacted image saved as {filename}\")"
      ],
      "metadata": {
        "id": "LC0Ns4ZzMhfG"
      },
      "execution_count": 22,
      "outputs": []
    },
    {
      "cell_type": "code",
      "source": [
        "def handle_image_redaction_own_input():\n",
        "    image_path = input(\"Enter image file path: \")\n",
        "    degree = int(input(\"Enter redaction degree (1-3): \"))\n",
        "\n",
        "    redacted_image = redact_image_with_haar(image_path, degree)\n",
        "\n",
        "    save_image_file(redacted_image)"
      ],
      "metadata": {
        "id": "5GIJYw7BMlxA"
      },
      "execution_count": 23,
      "outputs": []
    },
    {
      "cell_type": "code",
      "source": [
        "def handle_text_redaction_from_dataset(dataset_dir):\n",
        "    for filename in os.listdir(dataset_dir):\n",
        "        if filename.endswith(\".txt\"):\n",
        "            file_path = os.path.join(dataset_dir, filename)\n",
        "            with open(file_path, 'r') as file:\n",
        "                text = file.read()\n",
        "            degree = int(input(f\"Enter redaction degree for {filename} (1-3): \"))\n",
        "            entities = perform_ner(text)\n",
        "            redacted_text = redact_text(text, entities, degree)\n",
        "            save_text_file(redacted_text, filename=f\"redacted_{filename}\")"
      ],
      "metadata": {
        "id": "-MXH4loxMthq"
      },
      "execution_count": 24,
      "outputs": []
    },
    {
      "cell_type": "code",
      "source": [
        "def handle_image_redaction_from_dataset(dataset_dir):\n",
        "    for filename in os.listdir(dataset_dir):\n",
        "        if filename.endswith((\".jpg\", \".jpeg\", \".png\")):\n",
        "            file_path = os.path.join(dataset_dir, filename)\n",
        "            degree = int(input(f\"Enter redaction degree for {filename} (1-3): \"))\n",
        "            redacted_image = redact_image_with_haar(file_path, degree)\n",
        "            save_image_file(redacted_image, filename=f\"redacted_{filename}\")"
      ],
      "metadata": {
        "id": "gq54-0n1MuMp"
      },
      "execution_count": 25,
      "outputs": []
    },
    {
      "cell_type": "code",
      "source": [
        "def main():\n",
        "    print(\"1. Redact Own Input Text\")\n",
        "    print(\"2. Redact Own Input Image\")\n",
        "    print(\"3. Redact Text from Dataset\")\n",
        "    print(\"4. Redact Image from Dataset\")\n",
        "    choice = int(input(\"Enter your choice: \"))\n",
        "\n",
        "    if choice == 1:\n",
        "        handle_text_redaction_own_input()\n",
        "    elif choice == 2:\n",
        "        handle_image_redaction_own_input()\n",
        "    elif choice == 3:\n",
        "        dataset_dir = input(\"Enter the dataset directory path: \")\n",
        "        handle_text_redaction_from_dataset(dataset_dir)\n",
        "    elif choice == 4:\n",
        "        dataset_dir = input(\"Enter the dataset directory path: \")\n",
        "        handle_image_redaction_from_dataset(dataset_dir)\n",
        "\n",
        "if __name__ == \"__main__\":\n",
        "    main()"
      ],
      "metadata": {
        "colab": {
          "base_uri": "https://localhost:8080/"
        },
        "id": "JmssrDhGMwdl",
        "outputId": "e23c3abd-2abf-442c-f6da-53f8fc95dd1a"
      },
      "execution_count": 28,
      "outputs": [
        {
          "output_type": "stream",
          "name": "stdout",
          "text": [
            "1. Redact Own Input Text\n",
            "2. Redact Own Input Image\n",
            "3. Redact Text from Dataset\n",
            "4. Redact Image from Dataset\n",
            "Enter your choice: 2\n",
            "Enter image file path: /content/Pankaj-Sivdutt-Dual.jpeg\n",
            "Enter redaction degree (1-3): 3\n",
            "Redacted image saved as redacted_image.jpg\n"
          ]
        }
      ]
    }
  ]
}