{
  "nbformat": 4,
  "nbformat_minor": 0,
  "metadata": {
    "colab": {
      "provenance": [],
      "authorship_tag": "ABX9TyMgJRQi19dfH+y+CXP3qA3H",
      "include_colab_link": true
    },
    "kernelspec": {
      "name": "python3",
      "display_name": "Python 3"
    },
    "language_info": {
      "name": "python"
    }
  },
  "cells": [
    {
      "cell_type": "markdown",
      "metadata": {
        "id": "view-in-github",
        "colab_type": "text"
      },
      "source": [
        "<a href=\"https://colab.research.google.com/github/2003UJAN/SIH_RE-DACT/blob/main/RE_DACT.ipynb\" target=\"_parent\"><img src=\"https://colab.research.google.com/assets/colab-badge.svg\" alt=\"Open In Colab\"/></a>"
      ]
    },
    {
      "cell_type": "code",
      "execution_count": null,
      "metadata": {
        "id": "t7B1xR_GYohM"
      },
      "outputs": [],
      "source": [
        "import spacy\n",
        "from transformers import pipeline\n",
        "import cv2\n",
        "import os"
      ]
    },
    {
      "cell_type": "code",
      "source": [
        "nlp = spacy.load(\"en_core_web_sm\")"
      ],
      "metadata": {
        "id": "eYcBTcFIYvhx"
      },
      "execution_count": null,
      "outputs": []
    },
    {
      "cell_type": "code",
      "source": [
        "face_cascade = cv2.CascadeClassifier(cv2.data.haarcascades + 'haarcascade_frontalface_default.xml')"
      ],
      "metadata": {
        "id": "i72HVEtfYxRv"
      },
      "execution_count": null,
      "outputs": []
    },
    {
      "cell_type": "code",
      "source": [
        "def perform_ner(text):\n",
        "    doc = nlp(text)\n",
        "    entities = [(ent.text, ent.label_) for ent in doc.ents]\n",
        "    return entities"
      ],
      "metadata": {
        "id": "Ro6VBE_hYzaU"
      },
      "execution_count": null,
      "outputs": []
    },
    {
      "cell_type": "code",
      "source": [
        "def redact_text(text, entities, degree):\n",
        "    for entity, label in entities:\n",
        "        if degree == 1 and label in [\"PERSON\", \"ORG\"]:\n",
        "            text = text.replace(entity, \"[REDACTED]\")\n",
        "        elif degree == 2 and label in [\"PERSON\", \"ORG\", \"DATE\"]:\n",
        "            text = text.replace(entity, \"[REDACTED]\")\n",
        "        elif degree == 3:\n",
        "            text = text.replace(entity, \"[REDACTED]\")\n",
        "    return text"
      ],
      "metadata": {
        "id": "kaRsO1coY1a6"
      },
      "execution_count": null,
      "outputs": []
    },
    {
      "cell_type": "code",
      "source": [
        "def generate_synthetic_data(prompt, max_length=50):\n",
        "    generator = pipeline(\"text-generation\", model=\"gpt2\")\n",
        "    synthetic_data = generator(prompt, max_length=max_length, num_return_sequences=1)\n",
        "    return synthetic_data[0]['generated_text']"
      ],
      "metadata": {
        "id": "toFa0eM8Y3Ej"
      },
      "execution_count": null,
      "outputs": []
    },
    {
      "cell_type": "code",
      "source": [
        "def redact_image_with_haar(image_path, output_path, degree=1):\n",
        "    image = cv2.imread(image_path)\n",
        "    gray = cv2.cvtColor(image, cv2.COLOR_BGR2GRAY)\n",
        "    faces = face_cascade.detectMultiScale(gray, 1.3, 5)\n",
        "\n",
        "    for (x, y, w, h) in faces:\n",
        "        if degree == 1:\n",
        "            face = image[y:y+h, x+x+w]\n",
        "            face = cv2.GaussianBlur(face, (99, 99), 30)\n",
        "            image[y:y+h, x+x+w] = face\n",
        "        elif degree == 2:\n",
        "            face = image[y+y+h, x+x+w]\n",
        "            face = cv2.resize(face, (w // 10, h // 10), interpolation=cv2.INTER_LINEAR)\n",
        "            face = cv2.resize(face, (w, h), interpolation=cv2.INTER_NEAREST)\n",
        "            image[y+y+h, x+x+w] = face\n",
        "        elif degree == 3:\n",
        "            image[y+y+h, x+x+w] = 0\n",
        "\n",
        "    cv2.imwrite(output_path, image)"
      ],
      "metadata": {
        "id": "9cXXOFz2Y43w"
      },
      "execution_count": null,
      "outputs": []
    },
    {
      "cell_type": "code",
      "source": [
        "def handle_text_redaction_own_input():\n",
        "    input_text = input(\"Enter your text: \")\n",
        "    entities = perform_ner(input_text)\n",
        "    degree = int(input(\"Enter redaction degree (1-3): \"))\n",
        "    redacted_text = redact_text(input_text, entities, degree)\n",
        "\n",
        "    output_path = input(\"Enter output file path (with .txt extension): \")\n",
        "    with open(output_path, 'w') as file:\n",
        "        file.write(redacted_text)\n",
        "    print(f\"Redacted text saved to {output_path}\")"
      ],
      "metadata": {
        "id": "A14lpKQbY-eC"
      },
      "execution_count": null,
      "outputs": []
    },
    {
      "cell_type": "code",
      "source": [
        "def handle_image_redaction_own_input():\n",
        "    image_path = input(\"Enter image file path: \")\n",
        "    degree = int(input(\"Enter redaction degree (1-3): \"))\n",
        "\n",
        "    base_name, ext = os.path.splitext(image_path)\n",
        "    output_path = f\"{base_name}_redacted{ext}\"\n",
        "\n",
        "    redact_image_with_haar(image_path, output_path, degree)\n",
        "\n",
        "    print(f\"Redacted image saved to {output_path}\")"
      ],
      "metadata": {
        "id": "d1ba_SOwY_5t"
      },
      "execution_count": null,
      "outputs": []
    },
    {
      "cell_type": "code",
      "source": [
        "def handle_text_redaction_from_dataset(dataset_dir):\n",
        "    selected_file = select_input_from_dataset(dataset_dir)\n",
        "    with open(selected_file, 'r') as file:\n",
        "        input_text = file.read()\n",
        "    entities = perform_ner(input_text)\n",
        "    degree = int(input(\"Enter redaction degree (1-3): \"))\n",
        "    redacted_text = redact_text(input_text, entities, degree)\n",
        "\n",
        "    output_path = input(\"Enter output file path (with .txt extension): \")\n",
        "    with open(output_path, 'w') as file:\n",
        "        file.write(redacted_text)\n",
        "    print(f\"Redacted text saved to {output_path}\")"
      ],
      "metadata": {
        "id": "QfEk8mSpZCfI"
      },
      "execution_count": null,
      "outputs": []
    },
    {
      "cell_type": "code",
      "source": [
        "def handle_image_redaction_from_dataset(dataset_dir):\n",
        "    selected_file = select_input_from_dataset(dataset_dir)\n",
        "    degree = int(input(\"Enter redaction degree (1-3): \"))\n",
        "    output_path = input(\"Enter output image path (with .jpg extension): \")\n",
        "    redact_image_with_haar(selected_file, output_path, degree)\n",
        "    print(f\"Redacted image saved to {output_path}\")"
      ],
      "metadata": {
        "id": "5Uov5XP6ZE9n"
      },
      "execution_count": null,
      "outputs": []
    },
    {
      "cell_type": "code",
      "source": [
        "def select_input_from_dataset(dataset_dir):\n",
        "    files = os.listdir(dataset_dir)\n",
        "    for i, file in enumerate(files):\n",
        "        print(f\"{i + 1}. {file}\")\n",
        "    choice = int(input(\"Select the file number from the dataset: \")) - 1\n",
        "    return os.path.join(dataset_dir, files[choice])"
      ],
      "metadata": {
        "id": "hlyVWfLgZHm0"
      },
      "execution_count": null,
      "outputs": []
    },
    {
      "cell_type": "code",
      "source": [
        "def main():\n",
        "    print(\"1. Redact Own Input Text\")\n",
        "    print(\"2. Redact Own Input Image\")\n",
        "    print(\"3. Redact Text from Dataset\")\n",
        "    print(\"4. Redact Image from Dataset\")\n",
        "    choice = int(input(\"Enter your choice: \"))\n",
        "\n",
        "    if choice == 1:\n",
        "        handle_text_redaction_own_input()\n",
        "    elif choice == 2:\n",
        "        handle_image_redaction_own_input()\n",
        "    elif choice == 3:\n",
        "        dataset_dir = input(\"Enter the path to the dataset directory: \")\n",
        "        handle_text_redaction_from_dataset(dataset_dir)\n",
        "    elif choice == 4:\n",
        "        dataset_dir = input(\"Enter the path to the dataset directory: \")\n",
        "        handle_image_redaction_from_dataset(dataset_dir)\n",
        "\n",
        "if __name__ == \"__main__\":\n",
        "    main()"
      ],
      "metadata": {
        "colab": {
          "base_uri": "https://localhost:8080/"
        },
        "id": "nKJU4CUsZNCf",
        "outputId": "1c8e4b64-1a4f-4b19-e8f0-ede9fb1c6d0e"
      },
      "execution_count": null,
      "outputs": [
        {
          "name": "stdout",
          "output_type": "stream",
          "text": [
            "1. Redact Own Input Text\n",
            "2. Redact Own Input Image\n",
            "3. Redact Text from Dataset\n",
            "4. Redact Image from Dataset\n",
            "Enter your choice: 2\n"
          ]
        }
      ]
    }
  ]
}